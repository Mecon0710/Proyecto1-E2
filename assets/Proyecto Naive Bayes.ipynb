{
 "cells": [
  {
   "cell_type": "markdown",
   "id": "871f4724",
   "metadata": {},
   "source": [
    "# PROYECTO 1\n",
    "Algoritmo Naive Bayes\n",
    "\n",
    "Encargado: Julián Mora - 202012747"
   ]
  },
  {
   "cell_type": "markdown",
   "id": "e5871602",
   "metadata": {},
   "source": [
    "# # 1.  Instalación e importanción de librerías."
   ]
  },
  {
   "cell_type": "markdown",
   "id": "aed0c6f1",
   "metadata": {},
   "source": [
    "### Instalación de liberías"
   ]
  },
  {
   "cell_type": "code",
   "execution_count": 1,
   "id": "49b16256",
   "metadata": {},
   "outputs": [
    {
     "name": "stderr",
     "output_type": "stream",
     "text": [
      "[nltk_data] Downloading package punkt to\n",
      "[nltk_data]     C:\\Users\\julia\\AppData\\Roaming\\nltk_data...\n",
      "[nltk_data]   Package punkt is already up-to-date!\n",
      "[nltk_data] Downloading package stopwords to\n",
      "[nltk_data]     C:\\Users\\julia\\AppData\\Roaming\\nltk_data...\n",
      "[nltk_data]   Package stopwords is already up-to-date!\n",
      "[nltk_data] Downloading package wordnet to\n",
      "[nltk_data]     C:\\Users\\julia\\AppData\\Roaming\\nltk_data...\n",
      "[nltk_data]   Package wordnet is already up-to-date!\n"
     ]
    },
    {
     "data": {
      "text/plain": [
       "True"
      ]
     },
     "execution_count": 1,
     "metadata": {},
     "output_type": "execute_result"
    }
   ],
   "source": [
    "import nltk\n",
    "nltk.download('punkt')\n",
    "nltk.download('stopwords')\n",
    "nltk.download('wordnet')"
   ]
  },
  {
   "cell_type": "code",
   "execution_count": 2,
   "id": "f8354995",
   "metadata": {},
   "outputs": [],
   "source": [
    "import pandas as pd\n",
    "import numpy as np\n",
    "from sklearn.model_selection import train_test_split\n",
    "from nltk import word_tokenize, sent_tokenize\n",
    "from sklearn.model_selection import train_test_split\n",
    "from sklearn.feature_extraction.text import CountVectorizer\n",
    "from sklearn.naive_bayes import MultinomialNB\n",
    "from sklearn.naive_bayes import GaussianNB\n",
    "from sklearn import model_selection, naive_bayes, svm\n",
    "from sklearn.preprocessing import LabelEncoder\n",
    "from sklearn.feature_extraction.text import TfidfVectorizer\n",
    "from sklearn.metrics import classification_report"
   ]
  },
  {
   "cell_type": "markdown",
   "id": "3aa37aa1",
   "metadata": {},
   "source": [
    "## 2. Perfilamiento y entendimiento de los datos"
   ]
  },
  {
   "cell_type": "markdown",
   "id": "636a4af7",
   "metadata": {},
   "source": [
    "### Lectura de datos"
   ]
  },
  {
   "cell_type": "code",
   "execution_count": 3,
   "id": "90dd9694",
   "metadata": {},
   "outputs": [
    {
     "data": {
      "text/html": [
       "<div>\n",
       "<style scoped>\n",
       "    .dataframe tbody tr th:only-of-type {\n",
       "        vertical-align: middle;\n",
       "    }\n",
       "\n",
       "    .dataframe tbody tr th {\n",
       "        vertical-align: top;\n",
       "    }\n",
       "\n",
       "    .dataframe thead th {\n",
       "        text-align: right;\n",
       "    }\n",
       "</style>\n",
       "<table border=\"1\" class=\"dataframe\">\n",
       "  <thead>\n",
       "    <tr style=\"text-align: right;\">\n",
       "      <th></th>\n",
       "      <th>Unnamed: 0.1</th>\n",
       "      <th>Unnamed: 0</th>\n",
       "      <th>text</th>\n",
       "      <th>class</th>\n",
       "      <th>words</th>\n",
       "    </tr>\n",
       "  </thead>\n",
       "  <tbody>\n",
       "    <tr>\n",
       "      <th>0</th>\n",
       "      <td>0</td>\n",
       "      <td>173271</td>\n",
       "      <td>i want to destroy myselffor once everything wa...</td>\n",
       "      <td>suicide</td>\n",
       "      <td>want destroy myselffor everyth start feel okay...</td>\n",
       "    </tr>\n",
       "    <tr>\n",
       "      <th>1</th>\n",
       "      <td>1</td>\n",
       "      <td>336321</td>\n",
       "      <td>I kind of got behind schedule with learning fo...</td>\n",
       "      <td>non-suicide</td>\n",
       "      <td>kind got behind schedul learn next week testwe...</td>\n",
       "    </tr>\n",
       "    <tr>\n",
       "      <th>2</th>\n",
       "      <td>2</td>\n",
       "      <td>256637</td>\n",
       "      <td>I am just not sure anymoreFirst and foremost: ...</td>\n",
       "      <td>suicide</td>\n",
       "      <td>sure anymorefirst foremost brazil judg second ...</td>\n",
       "    </tr>\n",
       "    <tr>\n",
       "      <th>3</th>\n",
       "      <td>3</td>\n",
       "      <td>303772</td>\n",
       "      <td>please give me a reason to liveThats too much ...</td>\n",
       "      <td>suicide</td>\n",
       "      <td>pleas give reason livethat much reason live li...</td>\n",
       "    </tr>\n",
       "    <tr>\n",
       "      <th>4</th>\n",
       "      <td>4</td>\n",
       "      <td>293747</td>\n",
       "      <td>27f struggling to find meaning moving forwardI...</td>\n",
       "      <td>suicide</td>\n",
       "      <td>struggl find mean move forwardi admit bit long...</td>\n",
       "    </tr>\n",
       "  </tbody>\n",
       "</table>\n",
       "</div>"
      ],
      "text/plain": [
       "   Unnamed: 0.1  Unnamed: 0  \\\n",
       "0             0      173271   \n",
       "1             1      336321   \n",
       "2             2      256637   \n",
       "3             3      303772   \n",
       "4             4      293747   \n",
       "\n",
       "                                                text        class  \\\n",
       "0  i want to destroy myselffor once everything wa...      suicide   \n",
       "1  I kind of got behind schedule with learning fo...  non-suicide   \n",
       "2  I am just not sure anymoreFirst and foremost: ...      suicide   \n",
       "3  please give me a reason to liveThats too much ...      suicide   \n",
       "4  27f struggling to find meaning moving forwardI...      suicide   \n",
       "\n",
       "                                               words  \n",
       "0  want destroy myselffor everyth start feel okay...  \n",
       "1  kind got behind schedul learn next week testwe...  \n",
       "2  sure anymorefirst foremost brazil judg second ...  \n",
       "3  pleas give reason livethat much reason live li...  \n",
       "4  struggl find mean move forwardi admit bit long...  "
      ]
     },
     "execution_count": 3,
     "metadata": {},
     "output_type": "execute_result"
    }
   ],
   "source": [
    "df =pd.read_csv('/Users/julia/Desktop/Sexto semestre/Inteligencia de Negocios/Proyecto/SuicidiosProyectoFinal.csv',encoding='latin-1')\n",
    "df.head()"
   ]
  },
  {
   "cell_type": "markdown",
   "id": "a3db7ddc",
   "metadata": {},
   "source": [
    "### Entendimiento de los datos"
   ]
  },
  {
   "cell_type": "code",
   "execution_count": 4,
   "id": "31cf0a8d",
   "metadata": {},
   "outputs": [
    {
     "data": {
      "text/html": [
       "<div>\n",
       "<style scoped>\n",
       "    .dataframe tbody tr th:only-of-type {\n",
       "        vertical-align: middle;\n",
       "    }\n",
       "\n",
       "    .dataframe tbody tr th {\n",
       "        vertical-align: top;\n",
       "    }\n",
       "\n",
       "    .dataframe thead tr th {\n",
       "        text-align: left;\n",
       "    }\n",
       "\n",
       "    .dataframe thead tr:last-of-type th {\n",
       "        text-align: right;\n",
       "    }\n",
       "</style>\n",
       "<table border=\"1\" class=\"dataframe\">\n",
       "  <thead>\n",
       "    <tr>\n",
       "      <th></th>\n",
       "      <th colspan=\"8\" halign=\"left\">Unnamed: 0.1</th>\n",
       "      <th colspan=\"8\" halign=\"left\">Unnamed: 0</th>\n",
       "    </tr>\n",
       "    <tr>\n",
       "      <th></th>\n",
       "      <th>count</th>\n",
       "      <th>mean</th>\n",
       "      <th>std</th>\n",
       "      <th>min</th>\n",
       "      <th>25%</th>\n",
       "      <th>50%</th>\n",
       "      <th>75%</th>\n",
       "      <th>max</th>\n",
       "      <th>count</th>\n",
       "      <th>mean</th>\n",
       "      <th>std</th>\n",
       "      <th>min</th>\n",
       "      <th>25%</th>\n",
       "      <th>50%</th>\n",
       "      <th>75%</th>\n",
       "      <th>max</th>\n",
       "    </tr>\n",
       "    <tr>\n",
       "      <th>class</th>\n",
       "      <th></th>\n",
       "      <th></th>\n",
       "      <th></th>\n",
       "      <th></th>\n",
       "      <th></th>\n",
       "      <th></th>\n",
       "      <th></th>\n",
       "      <th></th>\n",
       "      <th></th>\n",
       "      <th></th>\n",
       "      <th></th>\n",
       "      <th></th>\n",
       "      <th></th>\n",
       "      <th></th>\n",
       "      <th></th>\n",
       "      <th></th>\n",
       "    </tr>\n",
       "  </thead>\n",
       "  <tbody>\n",
       "    <tr>\n",
       "      <th>non-suicide</th>\n",
       "      <td>110165.0</td>\n",
       "      <td>98140.366859</td>\n",
       "      <td>56466.973688</td>\n",
       "      <td>1.0</td>\n",
       "      <td>49152.0</td>\n",
       "      <td>98448.0</td>\n",
       "      <td>146996.0</td>\n",
       "      <td>195698.0</td>\n",
       "      <td>110165.0</td>\n",
       "      <td>174155.650706</td>\n",
       "      <td>100570.419334</td>\n",
       "      <td>3.0</td>\n",
       "      <td>86928.0</td>\n",
       "      <td>174629.0</td>\n",
       "      <td>261227.0</td>\n",
       "      <td>348110.0</td>\n",
       "    </tr>\n",
       "    <tr>\n",
       "      <th>suicide</th>\n",
       "      <td>85535.0</td>\n",
       "      <td>97474.877360</td>\n",
       "      <td>56526.613070</td>\n",
       "      <td>0.0</td>\n",
       "      <td>48588.0</td>\n",
       "      <td>97114.0</td>\n",
       "      <td>146478.5</td>\n",
       "      <td>195699.0</td>\n",
       "      <td>85535.0</td>\n",
       "      <td>174234.060291</td>\n",
       "      <td>100335.214507</td>\n",
       "      <td>2.0</td>\n",
       "      <td>87315.5</td>\n",
       "      <td>174191.0</td>\n",
       "      <td>261267.5</td>\n",
       "      <td>348108.0</td>\n",
       "    </tr>\n",
       "  </tbody>\n",
       "</table>\n",
       "</div>"
      ],
      "text/plain": [
       "            Unnamed: 0.1                                                     \\\n",
       "                   count          mean           std  min      25%      50%   \n",
       "class                                                                         \n",
       "non-suicide     110165.0  98140.366859  56466.973688  1.0  49152.0  98448.0   \n",
       "suicide          85535.0  97474.877360  56526.613070  0.0  48588.0  97114.0   \n",
       "\n",
       "                                Unnamed: 0                                     \\\n",
       "                  75%       max      count           mean            std  min   \n",
       "class                                                                           \n",
       "non-suicide  146996.0  195698.0   110165.0  174155.650706  100570.419334  3.0   \n",
       "suicide      146478.5  195699.0    85535.0  174234.060291  100335.214507  2.0   \n",
       "\n",
       "                                                    \n",
       "                 25%       50%       75%       max  \n",
       "class                                               \n",
       "non-suicide  86928.0  174629.0  261227.0  348110.0  \n",
       "suicide      87315.5  174191.0  261267.5  348108.0  "
      ]
     },
     "execution_count": 4,
     "metadata": {},
     "output_type": "execute_result"
    }
   ],
   "source": [
    "df.groupby('class').describe()"
   ]
  },
  {
   "cell_type": "code",
   "execution_count": 5,
   "id": "8351dcd7",
   "metadata": {},
   "outputs": [
    {
     "data": {
      "text/html": [
       "<div>\n",
       "<style scoped>\n",
       "    .dataframe tbody tr th:only-of-type {\n",
       "        vertical-align: middle;\n",
       "    }\n",
       "\n",
       "    .dataframe tbody tr th {\n",
       "        vertical-align: top;\n",
       "    }\n",
       "\n",
       "    .dataframe thead th {\n",
       "        text-align: right;\n",
       "    }\n",
       "</style>\n",
       "<table border=\"1\" class=\"dataframe\">\n",
       "  <thead>\n",
       "    <tr style=\"text-align: right;\">\n",
       "      <th></th>\n",
       "      <th>Unnamed: 0.1</th>\n",
       "      <th>Unnamed: 0</th>\n",
       "      <th>text</th>\n",
       "      <th>class</th>\n",
       "      <th>words</th>\n",
       "      <th>suicide</th>\n",
       "    </tr>\n",
       "  </thead>\n",
       "  <tbody>\n",
       "    <tr>\n",
       "      <th>0</th>\n",
       "      <td>0</td>\n",
       "      <td>173271</td>\n",
       "      <td>i want to destroy myselffor once everything wa...</td>\n",
       "      <td>suicide</td>\n",
       "      <td>want destroy myselffor everyth start feel okay...</td>\n",
       "      <td>1</td>\n",
       "    </tr>\n",
       "    <tr>\n",
       "      <th>1</th>\n",
       "      <td>1</td>\n",
       "      <td>336321</td>\n",
       "      <td>I kind of got behind schedule with learning fo...</td>\n",
       "      <td>non-suicide</td>\n",
       "      <td>kind got behind schedul learn next week testwe...</td>\n",
       "      <td>0</td>\n",
       "    </tr>\n",
       "    <tr>\n",
       "      <th>2</th>\n",
       "      <td>2</td>\n",
       "      <td>256637</td>\n",
       "      <td>I am just not sure anymoreFirst and foremost: ...</td>\n",
       "      <td>suicide</td>\n",
       "      <td>sure anymorefirst foremost brazil judg second ...</td>\n",
       "      <td>1</td>\n",
       "    </tr>\n",
       "    <tr>\n",
       "      <th>3</th>\n",
       "      <td>3</td>\n",
       "      <td>303772</td>\n",
       "      <td>please give me a reason to liveThats too much ...</td>\n",
       "      <td>suicide</td>\n",
       "      <td>pleas give reason livethat much reason live li...</td>\n",
       "      <td>1</td>\n",
       "    </tr>\n",
       "    <tr>\n",
       "      <th>4</th>\n",
       "      <td>4</td>\n",
       "      <td>293747</td>\n",
       "      <td>27f struggling to find meaning moving forwardI...</td>\n",
       "      <td>suicide</td>\n",
       "      <td>struggl find mean move forwardi admit bit long...</td>\n",
       "      <td>1</td>\n",
       "    </tr>\n",
       "  </tbody>\n",
       "</table>\n",
       "</div>"
      ],
      "text/plain": [
       "   Unnamed: 0.1  Unnamed: 0  \\\n",
       "0             0      173271   \n",
       "1             1      336321   \n",
       "2             2      256637   \n",
       "3             3      303772   \n",
       "4             4      293747   \n",
       "\n",
       "                                                text        class  \\\n",
       "0  i want to destroy myselffor once everything wa...      suicide   \n",
       "1  I kind of got behind schedule with learning fo...  non-suicide   \n",
       "2  I am just not sure anymoreFirst and foremost: ...      suicide   \n",
       "3  please give me a reason to liveThats too much ...      suicide   \n",
       "4  27f struggling to find meaning moving forwardI...      suicide   \n",
       "\n",
       "                                               words  suicide  \n",
       "0  want destroy myselffor everyth start feel okay...        1  \n",
       "1  kind got behind schedul learn next week testwe...        0  \n",
       "2  sure anymorefirst foremost brazil judg second ...        1  \n",
       "3  pleas give reason livethat much reason live li...        1  \n",
       "4  struggl find mean move forwardi admit bit long...        1  "
      ]
     },
     "execution_count": 5,
     "metadata": {},
     "output_type": "execute_result"
    }
   ],
   "source": [
    "df['suicide'] = df['class'].apply(lambda x:1 if x == 'suicide' else 0)\n",
    "df.head()"
   ]
  },
  {
   "cell_type": "markdown",
   "id": "afea879e",
   "metadata": {},
   "source": [
    "### Tokenización"
   ]
  },
  {
   "cell_type": "code",
   "execution_count": 6,
   "id": "7d3b9647",
   "metadata": {},
   "outputs": [
    {
     "data": {
      "text/html": [
       "<div>\n",
       "<style scoped>\n",
       "    .dataframe tbody tr th:only-of-type {\n",
       "        vertical-align: middle;\n",
       "    }\n",
       "\n",
       "    .dataframe tbody tr th {\n",
       "        vertical-align: top;\n",
       "    }\n",
       "\n",
       "    .dataframe thead th {\n",
       "        text-align: right;\n",
       "    }\n",
       "</style>\n",
       "<table border=\"1\" class=\"dataframe\">\n",
       "  <thead>\n",
       "    <tr style=\"text-align: right;\">\n",
       "      <th></th>\n",
       "      <th>Unnamed: 0.1</th>\n",
       "      <th>Unnamed: 0</th>\n",
       "      <th>text</th>\n",
       "      <th>class</th>\n",
       "      <th>words</th>\n",
       "      <th>suicide</th>\n",
       "    </tr>\n",
       "  </thead>\n",
       "  <tbody>\n",
       "    <tr>\n",
       "      <th>0</th>\n",
       "      <td>0</td>\n",
       "      <td>173271</td>\n",
       "      <td>i want to destroy myselffor once everything wa...</td>\n",
       "      <td>suicide</td>\n",
       "      <td>[want, destroy, myselffor, everyth, start, fee...</td>\n",
       "      <td>1</td>\n",
       "    </tr>\n",
       "    <tr>\n",
       "      <th>1</th>\n",
       "      <td>1</td>\n",
       "      <td>336321</td>\n",
       "      <td>I kind of got behind schedule with learning fo...</td>\n",
       "      <td>non-suicide</td>\n",
       "      <td>[kind, got, behind, schedul, learn, next, week...</td>\n",
       "      <td>0</td>\n",
       "    </tr>\n",
       "    <tr>\n",
       "      <th>2</th>\n",
       "      <td>2</td>\n",
       "      <td>256637</td>\n",
       "      <td>I am just not sure anymoreFirst and foremost: ...</td>\n",
       "      <td>suicide</td>\n",
       "      <td>[sure, anymorefirst, foremost, brazil, judg, s...</td>\n",
       "      <td>1</td>\n",
       "    </tr>\n",
       "    <tr>\n",
       "      <th>3</th>\n",
       "      <td>3</td>\n",
       "      <td>303772</td>\n",
       "      <td>please give me a reason to liveThats too much ...</td>\n",
       "      <td>suicide</td>\n",
       "      <td>[pleas, give, reason, livethat, much, reason, ...</td>\n",
       "      <td>1</td>\n",
       "    </tr>\n",
       "    <tr>\n",
       "      <th>4</th>\n",
       "      <td>4</td>\n",
       "      <td>293747</td>\n",
       "      <td>27f struggling to find meaning moving forwardI...</td>\n",
       "      <td>suicide</td>\n",
       "      <td>[struggl, find, mean, move, forwardi, admit, b...</td>\n",
       "      <td>1</td>\n",
       "    </tr>\n",
       "  </tbody>\n",
       "</table>\n",
       "</div>"
      ],
      "text/plain": [
       "   Unnamed: 0.1  Unnamed: 0  \\\n",
       "0             0      173271   \n",
       "1             1      336321   \n",
       "2             2      256637   \n",
       "3             3      303772   \n",
       "4             4      293747   \n",
       "\n",
       "                                                text        class  \\\n",
       "0  i want to destroy myselffor once everything wa...      suicide   \n",
       "1  I kind of got behind schedule with learning fo...  non-suicide   \n",
       "2  I am just not sure anymoreFirst and foremost: ...      suicide   \n",
       "3  please give me a reason to liveThats too much ...      suicide   \n",
       "4  27f struggling to find meaning moving forwardI...      suicide   \n",
       "\n",
       "                                               words  suicide  \n",
       "0  [want, destroy, myselffor, everyth, start, fee...        1  \n",
       "1  [kind, got, behind, schedul, learn, next, week...        0  \n",
       "2  [sure, anymorefirst, foremost, brazil, judg, s...        1  \n",
       "3  [pleas, give, reason, livethat, much, reason, ...        1  \n",
       "4  [struggl, find, mean, move, forwardi, admit, b...        1  "
      ]
     },
     "execution_count": 6,
     "metadata": {},
     "output_type": "execute_result"
    }
   ],
   "source": [
    "df['words'] = [word_tokenize(str(entry)) for entry in df['words']]\n",
    "#df['words'] = df['words'].apply(lambda x: ' '.join(map(str, x)))\n",
    "df.head()"
   ]
  },
  {
   "cell_type": "markdown",
   "id": "5bae9429",
   "metadata": {},
   "source": [
    "### Construcción del modelo"
   ]
  },
  {
   "cell_type": "code",
   "execution_count": 7,
   "id": "bc8cb8b0",
   "metadata": {},
   "outputs": [],
   "source": [
    "vectorizer = CountVectorizer()\n",
    "#counts = vectorizer.fit_transform(df['text'].values)\n",
    "\n",
    "classifier = MultinomialNB()\n",
    "#targets = df['class'].values\n",
    "#classifier.fit(counts, targets)"
   ]
  },
  {
   "cell_type": "code",
   "execution_count": 8,
   "id": "647c87ac",
   "metadata": {},
   "outputs": [],
   "source": [
    "Train_X, Test_X, Train_Y, Test_Y = model_selection.train_test_split(df['text'].values,df['class'].values,test_size=0.3,random_state = 0)"
   ]
  },
  {
   "cell_type": "code",
   "execution_count": 9,
   "id": "791ea295",
   "metadata": {},
   "outputs": [],
   "source": [
    "from sklearn.pipeline import make_pipeline\n",
    "from joblib import dump, load\n",
    "model = make_pipeline(vectorizer, classifier)"
   ]
  },
  {
   "cell_type": "code",
   "execution_count": 10,
   "id": "bd51b100",
   "metadata": {},
   "outputs": [],
   "source": [
    "#counts"
   ]
  },
  {
   "cell_type": "code",
   "execution_count": 11,
   "id": "d1343917",
   "metadata": {},
   "outputs": [
    {
     "data": {
      "text/plain": [
       "Pipeline(steps=[('countvectorizer', CountVectorizer()),\n",
       "                ('multinomialnb', MultinomialNB())])"
      ]
     },
     "execution_count": 11,
     "metadata": {},
     "output_type": "execute_result"
    }
   ],
   "source": [
    "model.fit(Train_X, Train_Y)\n",
    "#labels = model.predict(Test_X)"
   ]
  },
  {
   "cell_type": "code",
   "execution_count": 12,
   "id": "6e035391",
   "metadata": {},
   "outputs": [
    {
     "data": {
      "text/plain": [
       "['ProyectoNB.joblib']"
      ]
     },
     "execution_count": 12,
     "metadata": {},
     "output_type": "execute_result"
    }
   ],
   "source": [
    "# Usamos la lbreria joblib\n",
    "filename = 'ProyectoNB.joblib'\n",
    "# Se guarda\n",
    "dump(model, filename) "
   ]
  },
  {
   "cell_type": "code",
   "execution_count": 13,
   "id": "12e9a7ee",
   "metadata": {},
   "outputs": [
    {
     "data": {
      "text/plain": [
       "Pipeline(steps=[('countvectorizer', CountVectorizer()),\n",
       "                ('multinomialnb', MultinomialNB())])"
      ]
     },
     "execution_count": 13,
     "metadata": {},
     "output_type": "execute_result"
    }
   ],
   "source": [
    "p2 = load(filename)\n",
    "p2"
   ]
  },
  {
   "cell_type": "code",
   "execution_count": 14,
   "id": "37ad7be3",
   "metadata": {},
   "outputs": [],
   "source": [
    "# Clasificamos los datos recientes\n",
    "predicted = p2.predict(Test_X)"
   ]
  },
  {
   "cell_type": "code",
   "execution_count": 15,
   "id": "0a5bf24b",
   "metadata": {},
   "outputs": [],
   "source": [
    "from sklearn.metrics import plot_confusion_matrix\n",
    "from sklearn.metrics import confusion_matrix"
   ]
  },
  {
   "cell_type": "code",
   "execution_count": 16,
   "id": "73c0b97c",
   "metadata": {},
   "outputs": [
    {
     "data": {
      "text/plain": [
       "array([[27806,  5218],\n",
       "       [ 1112, 24574]], dtype=int64)"
      ]
     },
     "execution_count": 16,
     "metadata": {},
     "output_type": "execute_result"
    }
   ],
   "source": [
    "confusion_matrix(Test_Y, predicted)"
   ]
  },
  {
   "cell_type": "code",
   "execution_count": 17,
   "id": "848271eb",
   "metadata": {},
   "outputs": [
    {
     "name": "stdout",
     "output_type": "stream",
     "text": [
      "              precision    recall  f1-score   support\n",
      "\n",
      " non-suicide       0.96      0.84      0.90     33024\n",
      "     suicide       0.82      0.96      0.89     25686\n",
      "\n",
      "    accuracy                           0.89     58710\n",
      "   macro avg       0.89      0.90      0.89     58710\n",
      "weighted avg       0.90      0.89      0.89     58710\n",
      "\n"
     ]
    }
   ],
   "source": [
    "print(classification_report(Test_Y, predicted))"
   ]
  },
  {
   "cell_type": "code",
   "execution_count": 18,
   "id": "21c0524a",
   "metadata": {},
   "outputs": [],
   "source": [
    "#classifier.fit(Train_X, Train_Y)"
   ]
  },
  {
   "cell_type": "code",
   "execution_count": 19,
   "id": "7bb56ce6",
   "metadata": {},
   "outputs": [
    {
     "name": "stdout",
     "output_type": "stream",
     "text": [
      "              precision    recall  f1-score   support\n",
      "\n",
      " non-suicide       0.96      0.84      0.90     33024\n",
      "     suicide       0.82      0.96      0.89     25686\n",
      "\n",
      "    accuracy                           0.89     58710\n",
      "   macro avg       0.89      0.90      0.89     58710\n",
      "weighted avg       0.90      0.89      0.89     58710\n",
      "\n"
     ]
    }
   ],
   "source": [
    "y_pred = model.predict(Test_X)\n",
    "print(classification_report(Test_Y,y_pred))"
   ]
  },
  {
   "cell_type": "code",
   "execution_count": 20,
   "id": "3beac47e",
   "metadata": {},
   "outputs": [
    {
     "name": "stdout",
     "output_type": "stream",
     "text": [
      "              precision    recall  f1-score   support\n",
      "\n",
      " non-suicide       0.96      0.84      0.90     33024\n",
      "     suicide       0.82      0.96      0.89     25686\n",
      "\n",
      "    accuracy                           0.89     58710\n",
      "   macro avg       0.89      0.90      0.89     58710\n",
      "weighted avg       0.90      0.89      0.89     58710\n",
      "\n"
     ]
    }
   ],
   "source": [
    "y_pred = p2.predict(Test_X)\n",
    "print(classification_report(Test_Y,y_pred))"
   ]
  },
  {
   "cell_type": "markdown",
   "id": "832880cd",
   "metadata": {},
   "source": [
    "### Pruebas"
   ]
  },
  {
   "cell_type": "code",
   "execution_count": 21,
   "id": "cd7875db",
   "metadata": {},
   "outputs": [
    {
     "data": {
      "text/plain": [
       "array(['suicide', 'suicide'], dtype='<U11')"
      ]
     },
     "execution_count": 21,
     "metadata": {},
     "output_type": "execute_result"
    }
   ],
   "source": [
    "examples = ['i want to destroy myselffor once everything was starting to feel okay again but it all came tumbling down and i donâ€™t know how i used to cope before and the only reason iâ€™m not tearing my skin to shreds and swallowing every pill i can find right now is because iâ€™m not alone in the room but my walls are slowly falling down and itâ€™s only a matter of time before i snap and finally end it once and for all','I want to die']\n",
    "example_counts = vectorizer.transform(examples)\n",
    "predictions = classifier.predict(example_counts)\n",
    "predictions"
   ]
  },
  {
   "cell_type": "markdown",
   "id": "959c5b57",
   "metadata": {},
   "source": [
    "Se puede observar como reconoce palabras críticas y categoriza los textos según las encuentra"
   ]
  },
  {
   "cell_type": "code",
   "execution_count": 22,
   "id": "aade1e58",
   "metadata": {},
   "outputs": [],
   "source": [
    "new_input = ['i want to destroy myselffor once everything was starting to feel okay again but it all came tumbling down and i donâ€™t know how i used to cope before and the only reason iâ€™m not tearing my skin to shreds and swallowing every pill i can find right now is because iâ€™m not alone in the room but my walls are slowly falling down and itâ€™s only a matter of time before i snap and finally end it once and for all']"
   ]
  },
  {
   "cell_type": "code",
   "execution_count": 23,
   "id": "322236cb",
   "metadata": {},
   "outputs": [],
   "source": [
    "new_output = p2.predict(new_input)"
   ]
  },
  {
   "cell_type": "code",
   "execution_count": 24,
   "id": "17424236",
   "metadata": {},
   "outputs": [
    {
     "data": {
      "text/plain": [
       "array(['suicide'], dtype='<U11')"
      ]
     },
     "execution_count": 24,
     "metadata": {},
     "output_type": "execute_result"
    }
   ],
   "source": [
    "new_output"
   ]
  },
  {
   "cell_type": "code",
   "execution_count": null,
   "id": "15e92501",
   "metadata": {},
   "outputs": [],
   "source": []
  }
 ],
 "metadata": {
  "kernelspec": {
   "display_name": "Python 3 (ipykernel)",
   "language": "python",
   "name": "python3"
  },
  "language_info": {
   "codemirror_mode": {
    "name": "ipython",
    "version": 3
   },
   "file_extension": ".py",
   "mimetype": "text/x-python",
   "name": "python",
   "nbconvert_exporter": "python",
   "pygments_lexer": "ipython3",
   "version": "3.9.12"
  }
 },
 "nbformat": 4,
 "nbformat_minor": 5
}
